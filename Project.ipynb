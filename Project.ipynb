{
 "cells": [
  {
   "cell_type": "code",
   "execution_count": 1,
   "id": "d43c2fe8-5a6b-4521-8af7-f1df896bbeef",
   "metadata": {},
   "outputs": [],
   "source": [
    "#initialnize spark\n",
    "import findspark\n",
    "findspark.init()\n",
    "from pyspark.sql import SparkSession\n",
    "spark = SparkSession.builder.appName(\"ml\").getOrCreate()\n",
    "\n",
    "from pyspark.sql import SQLContext\n",
    "sqlContext = SQLContext(spark)\n",
    "\n",
    "import numpy as np\n",
    "import matplotlib.pyplot as plt\n",
    "import seaborn as sns\n",
    "%matplotlib inline"
   ]
  },
  {
   "cell_type": "code",
   "execution_count": 2,
   "id": "40254ccd-af7d-429b-811d-c1a1910dae7b",
   "metadata": {},
   "outputs": [],
   "source": [
    "#read datasets\n",
    "Names=[\"ad_info\",\"category\",\"combined_stream\",\"location\",\"search_click\",\"search_info\",\"user_info\"]\n",
    "df_ad_info,df_category,df_combined_stream,df_location,df_search_click,df_search_info,df_user_info=[spark.read.format(\"csv\") \\\n",
    "                .option(\"header\", \"true\") \\\n",
    "                .option(\"delimiter\", \"\\t\") \\\n",
    "                .option('inferSchema', 'true') \\\n",
    "                .load((f\"s3://bigdatateaching/project-data/{name}.txt\")) for name in Names]"
   ]
  },
  {
   "cell_type": "code",
   "execution_count": 78,
   "id": "d16093a8-0f68-4567-9a21-eb7bc02598b1",
   "metadata": {
    "tags": []
   },
   "outputs": [
    {
     "name": "stdout",
     "output_type": "stream",
     "text": [
      "root\n",
      " |-- AdID: integer (nullable = true)\n",
      " |-- LocationID: integer (nullable = true)\n",
      " |-- CategoryID: integer (nullable = true)\n",
      " |-- Params: string (nullable = true)\n",
      " |-- Price: double (nullable = true)\n",
      " |-- Title: string (nullable = true)\n",
      " |-- IsContext: integer (nullable = true)\n",
      "\n",
      "root\n",
      " |-- CategoryID: integer (nullable = true)\n",
      " |-- Level: integer (nullable = true)\n",
      " |-- ParentCategoryID: integer (nullable = true)\n",
      " |-- SubcategoryID: integer (nullable = true)\n",
      "\n",
      "root\n",
      " |-- UserID: integer (nullable = true)\n",
      " |-- IPID: integer (nullable = true)\n",
      " |-- AdID: integer (nullable = true)\n",
      " |-- ViewDate: timestamp (nullable = true)\n",
      " |-- Source: string (nullable = true)\n",
      "\n",
      "root\n",
      " |-- LocationID: integer (nullable = true)\n",
      " |-- Level: integer (nullable = true)\n",
      " |-- RegionID: integer (nullable = true)\n",
      " |-- CityID: integer (nullable = true)\n",
      "\n",
      "root\n",
      " |-- SearchID: integer (nullable = true)\n",
      " |-- AdID: integer (nullable = true)\n",
      " |-- Position: integer (nullable = true)\n",
      " |-- ObjectType: integer (nullable = true)\n",
      " |-- HistCTR: double (nullable = true)\n",
      " |-- IsClick: integer (nullable = true)\n",
      "\n",
      "root\n",
      " |-- SearchID: integer (nullable = true)\n",
      " |-- SearchDate: timestamp (nullable = true)\n",
      " |-- IPID: integer (nullable = true)\n",
      " |-- UserID: integer (nullable = true)\n",
      " |-- IsUserLoggedOn: integer (nullable = true)\n",
      " |-- SearchQuery: string (nullable = true)\n",
      " |-- LocationID: integer (nullable = true)\n",
      " |-- CategoryID: integer (nullable = true)\n",
      " |-- SearchParams: string (nullable = true)\n",
      "\n",
      "root\n",
      " |-- UserID: integer (nullable = true)\n",
      " |-- UserAgentID: integer (nullable = true)\n",
      " |-- UserAgentOSID: integer (nullable = true)\n",
      " |-- UserDeviceID: integer (nullable = true)\n",
      " |-- UserAgentFamilyID: integer (nullable = true)\n",
      "\n"
     ]
    }
   ],
   "source": [
    "#read datasets' print schema\n",
    "df_ad_info.printSchema()\n",
    "df_category.printSchema()\n",
    "df_combined_stream.printSchema()\n",
    "df_location.printSchema()\n",
    "df_search_click.printSchema()\n",
    "df_search_info.printSchema()\n",
    "df_user_info.printSchema()"
   ]
  },
  {
   "cell_type": "code",
   "execution_count": 79,
   "id": "f02bd995-4410-4ae8-817c-4c9af2ace828",
   "metadata": {},
   "outputs": [],
   "source": [
    "#Remove duplicates rows\n",
    "\n",
    "df_ad_info=df_ad_info.dropDuplicates()\n",
    "df_category=df_category.dropDuplicates()\n",
    "df_combined_stream=df_combined_stream.dropDuplicates()\n",
    "df_location=df_location.dropDuplicates()\n",
    "df_search_click=df_search_click.dropDuplicates()\n",
    "df_search_info=df_search_info.dropDuplicates()\n",
    "df_user_info=df_user_info.dropDuplicates()"
   ]
  },
  {
   "cell_type": "markdown",
   "id": "b24f6608-2911-4c27-9aa6-d3eee93ec196",
   "metadata": {},
   "source": [
    "## Search_click"
   ]
  },
  {
   "cell_type": "code",
   "execution_count": 80,
   "id": "6384f108-c92d-4660-8b9f-6d376dd472c8",
   "metadata": {},
   "outputs": [
    {
     "data": {
      "text/plain": [
       "392356948"
      ]
     },
     "execution_count": 80,
     "metadata": {},
     "output_type": "execute_result"
    }
   ],
   "source": [
    "#count search_click data\n",
    "df_search_click.count()"
   ]
  },
  {
   "cell_type": "code",
   "execution_count": 4,
   "id": "aa2e761b-aca1-4545-afdd-da283e968ef7",
   "metadata": {},
   "outputs": [
    {
     "name": "stdout",
     "output_type": "stream",
     "text": [
      "SearchID  \t with distinct values: 107863985\n",
      "AdID  \t with distinct values: 22848857\n",
      "Position  \t with distinct values: 5\n",
      "ObjectType  \t with distinct values: 3\n",
      "HistCTR  \t with distinct values: 87523\n",
      "IsClick  \t with distinct values: 3\n"
     ]
    }
   ],
   "source": [
    "#count distinct variable for different columns in search_click table dataset\n",
    "for col in df_search_click.columns:\n",
    "    print(col,' \\t', 'with distinct values:' , df_search_click.select(col).distinct().count())"
   ]
  },
  {
   "cell_type": "code",
   "execution_count": 11,
   "id": "5b8876e7-e8ac-4a2a-ab07-1d6797d31b65",
   "metadata": {},
   "outputs": [
    {
     "name": "stdout",
     "output_type": "stream",
     "text": [
      "SearchID  \t with null values: 0\n",
      "AdID  \t with null values: 0\n",
      "Position  \t with null values: 0\n",
      "ObjectType  \t with null values: 0\n",
      "HistCTR  \t with null values: 202199213\n",
      "IsClick  \t with null values: 202199213\n"
     ]
    }
   ],
   "source": [
    "#count null value for different columns in search_click table dataset\n",
    "for col in df_search_click.columns:\n",
    "    print(col,' \\t', 'with null values:' , df_search_click.filter(df_search_click[col].isNull()).count())"
   ]
  },
  {
   "cell_type": "code",
   "execution_count": 3,
   "id": "06b289fb-4299-49a9-848a-b75059c174ac",
   "metadata": {},
   "outputs": [
    {
     "name": "stderr",
     "output_type": "stream",
     "text": [
      "/home/hadoop/miniconda/lib/python3.7/site-packages/pyarrow/util.py:43: FutureWarning: pyarrow.open_stream is deprecated as of 0.17.0, please use pyarrow.ipc.open_stream instead.\n",
      "  warnings.warn(msg, FutureWarning)\n",
      "/home/hadoop/miniconda/lib/python3.7/site-packages/ipykernel_launcher.py:4: SettingWithCopyWarning: \n",
      "A value is trying to be set on a copy of a slice from a DataFrame\n",
      "\n",
      "See the caveats in the documentation: https://pandas.pydata.org/pandas-docs/stable/user_guide/indexing.html#returning-a-view-versus-a-copy\n",
      "  after removing the cwd from sys.path.\n",
      "/home/hadoop/miniconda/lib/python3.7/site-packages/pandas/core/indexing.py:1637: SettingWithCopyWarning: \n",
      "A value is trying to be set on a copy of a slice from a DataFrame\n",
      "\n",
      "See the caveats in the documentation: https://pandas.pydata.org/pandas-docs/stable/user_guide/indexing.html#returning-a-view-versus-a-copy\n",
      "  self._setitem_single_block(indexer, value, name)\n",
      "/home/hadoop/miniconda/lib/python3.7/site-packages/ipykernel_launcher.py:8: SettingWithCopyWarning: \n",
      "A value is trying to be set on a copy of a slice from a DataFrame\n",
      "\n",
      "See the caveats in the documentation: https://pandas.pydata.org/pandas-docs/stable/user_guide/indexing.html#returning-a-view-versus-a-copy\n",
      "  \n",
      "/home/hadoop/miniconda/lib/python3.7/site-packages/ipykernel_launcher.py:6: SettingWithCopyWarning: \n",
      "A value is trying to be set on a copy of a slice from a DataFrame\n",
      "\n",
      "See the caveats in the documentation: https://pandas.pydata.org/pandas-docs/stable/user_guide/indexing.html#returning-a-view-versus-a-copy\n",
      "  \n"
     ]
    }
   ],
   "source": [
    "#groupby ads types to plot distribution of ads types in search_click table\n",
    "ObjectType_df=df_search_click.groupby(\"ObjectType\").count().toPandas()\n",
    "for i,type in enumerate(ObjectType_df['ObjectType']):\n",
    "    if type==1:\n",
    "        ObjectType_df['ObjectType'][i]='regular free ads'\n",
    "    elif type==2:\n",
    "        ObjectType_df['ObjectType'][i]='highlighted regular'   \n",
    "    else:\n",
    "        ObjectType_df['ObjectType'][i]='contextual ads'   "
   ]
  },
  {
   "cell_type": "code",
   "execution_count": 8,
   "id": "d8d871c5-45db-44cf-b660-e4c817a81606",
   "metadata": {},
   "outputs": [
    {
     "data": {
      "image/png": "[encoded data removed]",
      "text/plain": [
       "<Figure size 720x504 with 1 Axes>"
      ]
     },
     "metadata": {},
     "output_type": "display_data"
    }
   ],
   "source": [
    "\n",
    "# Creating color parameters\n",
    "colors = ( \"orange\", \"blue\", \"brown\")\n",
    "#Wedge properties\n",
    "wp = { 'linewidth' : 1, 'edgecolor' : \"green\" }\n",
    "\n",
    "# Creating autocpt arguments\n",
    "def func(pct, allvalues):\n",
    "    absolute = int(pct / 100.*np.sum(allvalues))\n",
    "    return \"{:.1f}%\\n({:d} )\".format(pct, absolute)\n",
    "  \n",
    "# Creating plot\n",
    "fig, ax = plt.subplots(figsize =(10, 7))\n",
    "wedges, texts, autotexts = ax.pie(ObjectType_df['count'], \n",
    "                                  autopct = lambda pct: func(pct, ObjectType_df['count']), \n",
    "                                  labels = ObjectType_df['ObjectType'],\n",
    "                                  shadow = True,\n",
    "                                  colors = colors,\n",
    "                                  startangle = 90,\n",
    "                                  wedgeprops = wp,\n",
    "                                  textprops = dict(color =\"magenta\"))\n",
    "  \n",
    "# Adding legend\n",
    "ax.legend(wedges, ObjectType_df['ObjectType'],\n",
    "          title =\"Object Type\",\n",
    "          loc =\"center left\",\n",
    "          bbox_to_anchor =(1, 0, 0.5, 1))\n",
    "  \n",
    "plt.setp(autotexts, size = 8, weight =\"bold\")\n",
    "ax.set_title(\"ad type distribution\")\n",
    "  \n",
    "# show plot\n",
    "plt.show()"
   ]
  },
  {
   "cell_type": "code",
   "execution_count": 3,
   "id": "35a56bc6-6653-4509-921a-51ca4067d3b5",
   "metadata": {},
   "outputs": [
    {
     "name": "stderr",
     "output_type": "stream",
     "text": [
      "/usr/lib/spark/python/pyspark/sql/dataframe.py:2103: UserWarning: toPandas attempted Arrow optimization because 'spark.sql.execution.arrow.enabled' is set to true; however, failed by the reason below:\n",
      "  PyArrow >= 0.8.0 must be installed; however, it was not found.\n",
      "Attempting non-optimization as 'spark.sql.execution.arrow.fallback.enabled' is set to true.\n",
      "  warnings.warn(msg)\n"
     ]
    }
   ],
   "source": [
    "#groupby ads types to plot distribution of position in search_click table\n",
    "df=df_search_click.groupby(\"Position\").count().toPandas()"
   ]
  },
  {
   "cell_type": "code",
   "execution_count": 4,
   "id": "79af029b-80ba-40f9-83ed-169020662143",
   "metadata": {},
   "outputs": [
    {
     "data": {
      "text/plain": [
       "<AxesSubplot:title={'center':'Ads position distribution'}, xlabel='Position'>"
      ]
     },
     "execution_count": 4,
     "metadata": {},
     "output_type": "execute_result"
    },
    {
     "data": {
      "image/png": "[encoded data removed]",
      "text/plain": [
       "<Figure size 432x288 with 1 Axes>"
      ]
     },
     "metadata": {
      "needs_background": "light"
     },
     "output_type": "display_data"
    }
   ],
   "source": [
    "df.plot(kind='bar', x='Position', y='count',title='Ads position distribution')"
   ]
  },
  {
   "cell_type": "markdown",
   "id": "4e3e5d12-983b-4dca-9c17-93839aba999a",
   "metadata": {},
   "source": [
    "### contextual ads exploration"
   ]
  },
  {
   "cell_type": "code",
   "execution_count": 4,
   "id": "7c4742e1-3f70-4a21-8376-2311dbbe713d",
   "metadata": {},
   "outputs": [],
   "source": [
    "# filter to get contextual ads dataset\n",
    "df_search_click_contextual= df_search_click.filter(df_search_click[\"IsClick\"].isNotNull()) "
   ]
  },
  {
   "cell_type": "code",
   "execution_count": 107,
   "id": "9b95b397-8ed8-4822-96ee-51cde1c3c528",
   "metadata": {},
   "outputs": [
    {
     "name": "stderr",
     "output_type": "stream",
     "text": [
      "/home/hadoop/miniconda/lib/python3.7/site-packages/pyarrow/util.py:43: FutureWarning: pyarrow.open_stream is deprecated as of 0.17.0, please use pyarrow.ipc.open_stream instead.\n",
      "  warnings.warn(msg, FutureWarning)\n",
      "/home/hadoop/miniconda/lib/python3.7/site-packages/ipykernel_launcher.py:5: SettingWithCopyWarning: \n",
      "A value is trying to be set on a copy of a slice from a DataFrame\n",
      "\n",
      "See the caveats in the documentation: https://pandas.pydata.org/pandas-docs/stable/user_guide/indexing.html#returning-a-view-versus-a-copy\n",
      "  \"\"\"\n",
      "/home/hadoop/miniconda/lib/python3.7/site-packages/pandas/core/indexing.py:1637: SettingWithCopyWarning: \n",
      "A value is trying to be set on a copy of a slice from a DataFrame\n",
      "\n",
      "See the caveats in the documentation: https://pandas.pydata.org/pandas-docs/stable/user_guide/indexing.html#returning-a-view-versus-a-copy\n",
      "  self._setitem_single_block(indexer, value, name)\n",
      "/home/hadoop/miniconda/lib/python3.7/site-packages/ipykernel_launcher.py:7: SettingWithCopyWarning: \n",
      "A value is trying to be set on a copy of a slice from a DataFrame\n",
      "\n",
      "See the caveats in the documentation: https://pandas.pydata.org/pandas-docs/stable/user_guide/indexing.html#returning-a-view-versus-a-copy\n",
      "  import sys\n"
     ]
    }
   ],
   "source": [
    "IsClick_df=df_search_click_contextual.groupby(\"IsClick\").count().toPandas()\n",
    "\n",
    "for i,type in enumerate(IsClick_df['IsClick']):\n",
    "    if type==1:\n",
    "        IsClick_df['IsClick'][i]='Yes'\n",
    "    else:\n",
    "        IsClick_df['IsClick'][i]='No' "
   ]
  },
  {
   "cell_type": "code",
   "execution_count": 108,
   "id": "15160bf0-5bd5-4cea-ac65-faf117dd8cab",
   "metadata": {},
   "outputs": [
    {
     "data": {
      "image/png": "[encoded data removed]",
      "text/plain": [
       "<Figure size 720x504 with 1 Axes>"
      ]
     },
     "metadata": {},
     "output_type": "display_data"
    }
   ],
   "source": [
    "colors = ( \"orange\", \"green\")\n",
    "# Creating plot\n",
    "\n",
    "\n",
    "#Wedge properties\n",
    "wp = { 'linewidth' : 1, 'edgecolor' : \"green\" }\n",
    "\n",
    "# Creating autocpt arguments\n",
    "def func(pct, allvalues):\n",
    "    absolute = int(pct / 100.*np.sum(allvalues))\n",
    "    return \"{:.1f}%\\n({:d} )\".format(pct, absolute)\n",
    "  \n",
    "fig, ax = plt.subplots(figsize =(10, 7))\n",
    "wedges, texts, autotexts = ax.pie(IsClick_df['count'], \n",
    "                                  autopct = lambda pct: func(pct, IsClick_df['count']), \n",
    "                                  labels = IsClick_df['IsClick'],\n",
    "                                  shadow = True,\n",
    "                                  colors = colors,\n",
    "                                  startangle = 90,\n",
    "                                  wedgeprops = wp,\n",
    "                                  textprops = dict(color =\"white\"))\n",
    "  \n",
    "# Adding legend\n",
    "ax.legend(wedges, IsClick_df['IsClick'],\n",
    "          title =\"Is Click\",\n",
    "          loc =\"center left\",\n",
    "          bbox_to_anchor =(1, 0, 0.5, 1))\n",
    "  \n",
    "plt.setp(autotexts, size = 8, weight =\"bold\")\n",
    "ax.set_title(\"Click status distribution\")\n",
    "  \n",
    "# show plot\n",
    "plt.show()"
   ]
  },
  {
   "cell_type": "code",
   "execution_count": 5,
   "id": "284a9cb6-f6d1-486b-8bd3-a11a23a4c235",
   "metadata": {},
   "outputs": [],
   "source": [
    "import pyspark.sql.functions as F\n",
    "# use groupby to count isclick and position variables\n",
    "click_position_count=df_search_click_contextual.groupBy([\"IsClick\",\"Position\"]).count()\n"
   ]
  },
  {
   "cell_type": "code",
   "execution_count": 6,
   "id": "469db426-7f6d-40f7-8808-ff45bb862de5",
   "metadata": {},
   "outputs": [
    {
     "name": "stderr",
     "output_type": "stream",
     "text": [
      "/usr/lib/spark/python/pyspark/sql/dataframe.py:2103: UserWarning: toPandas attempted Arrow optimization because 'spark.sql.execution.arrow.enabled' is set to true; however, failed by the reason below:\n",
      "  PyArrow >= 0.8.0 must be installed; however, it was not found.\n",
      "Attempting non-optimization as 'spark.sql.execution.arrow.fallback.enabled' is set to true.\n",
      "  warnings.warn(msg)\n"
     ]
    }
   ],
   "source": [
    "#calculate proportions of click status among different position \n",
    "click_position_count=click_position_count.join(click_position_count.groupBy([\"Position\"]).sum('count'), 'Position')\n",
    "click_position_count_perc=click_position_count.select('IsClick', 'Position', F.round(F.col('count')/F.col('sum(count)'), 2).alias('normalized')).toPandas()"
   ]
  },
  {
   "cell_type": "code",
   "execution_count": 7,
   "id": "d66ed90c-983b-4a99-8d0a-dcca5fca4e33",
   "metadata": {},
   "outputs": [
    {
     "data": {
      "text/html": [
       "<div>\n",
       "<style scoped>\n",
       "    .dataframe tbody tr th:only-of-type {\n",
       "        vertical-align: middle;\n",
       "    }\n",
       "\n",
       "    .dataframe tbody tr th {\n",
       "        vertical-align: top;\n",
       "    }\n",
       "\n",
       "    .dataframe thead th {\n",
       "        text-align: right;\n",
       "    }\n",
       "</style>\n",
       "<table border=\"1\" class=\"dataframe\">\n",
       "  <thead>\n",
       "    <tr style=\"text-align: right;\">\n",
       "      <th>IsClick</th>\n",
       "      <th>0</th>\n",
       "      <th>1</th>\n",
       "    </tr>\n",
       "    <tr>\n",
       "      <th>Position</th>\n",
       "      <th></th>\n",
       "      <th></th>\n",
       "    </tr>\n",
       "  </thead>\n",
       "  <tbody>\n",
       "    <tr>\n",
       "      <th>1</th>\n",
       "      <td>0.99</td>\n",
       "      <td>0.01</td>\n",
       "    </tr>\n",
       "    <tr>\n",
       "      <th>7</th>\n",
       "      <td>1.00</td>\n",
       "      <td>0.00</td>\n",
       "    </tr>\n",
       "  </tbody>\n",
       "</table>\n",
       "</div>"
      ],
      "text/plain": [
       "IsClick      0     1\n",
       "Position            \n",
       "1         0.99  0.01\n",
       "7         1.00  0.00"
      ]
     },
     "execution_count": 7,
     "metadata": {},
     "output_type": "execute_result"
    }
   ],
   "source": [
    "#show pivot table for click status on different position\n",
    "click_position_count_perc.pivot(\"Position\", \"IsClick\", \"normalized\")"
   ]
  },
  {
   "cell_type": "code",
   "execution_count": 25,
   "id": "716eef9c-dea6-4d38-87e1-3e99da6a6dd3",
   "metadata": {},
   "outputs": [
    {
     "name": "stdout",
     "output_type": "stream",
     "text": [
      "+-------+-----------+-----------+-----------+-----------+-----------+--------------------+\n",
      "|IsClick|Min HistCTR|%25 HistCTR|%50 HistCTR|%75 HistCTR|Max HistCTR|        Mean HistCTR|\n",
      "+-------+-----------+-----------+-----------+-----------+-----------+--------------------+\n",
      "|      1|     1.0E-5|   0.005384|   0.010594|   0.020563|        1.0| 0.01629959593086918|\n",
      "|      0|     1.0E-5|   0.002369|   0.005205|    0.01129|        1.0|0.010258662493907967|\n",
      "+-------+-----------+-----------+-----------+-----------+-----------+--------------------+\n",
      "\n"
     ]
    }
   ],
   "source": [
    "#Use table to show distribution of histCTR under different click status\n",
    "df_search_click_contextual.select('IsClick','HistCTR').groupBy('IsClick').agg(F.min(\"HistCTR\").alias('Min HistCTR'),F.expr('percentile(HistCTR, array(0.25))')[0].alias('%25 HistCTR'),\n",
    "                             F.expr('percentile(HistCTR, array(0.50))')[0].alias('%50 HistCTR'),\n",
    "                             F.expr('percentile(HistCTR, array(0.75))')[0].alias('%75 HistCTR'),\n",
    "                            F.max(\"HistCTR\").alias('Max HistCTR'),F.mean('HistCTR').alias('Mean HistCTR')).show()"
   ]
  },
  {
   "cell_type": "markdown",
   "id": "754e6155-c9ab-442c-86f3-351691c9314c",
   "metadata": {},
   "source": [
    "## Search_click + ad_info"
   ]
  },
  {
   "cell_type": "code",
   "execution_count": 8,
   "id": "fd99b302-9779-4fa7-aedd-965bd79f08c0",
   "metadata": {},
   "outputs": [],
   "source": [
    "# joihn search_click table and ad_info to look at influence of ad infortion to ads click\n",
    "df_search_click_ad=df_search_click.join(df_ad_info, ['AdID'],how='inner')\n"
   ]
  },
  {
   "cell_type": "code",
   "execution_count": 13,
   "id": "cf8af907-a72a-46e8-b737-3b07f09ea1b9",
   "metadata": {},
   "outputs": [
    {
     "name": "stdout",
     "output_type": "stream",
     "text": [
      "+----------+--------+---------+---------+---------+----------------+------------------+\n",
      "|ObjectType|%0 Price|%25 Price|%50 Price|%75 Price|      %100 Price|        avg(Price)|\n",
      "+----------+--------+---------+---------+---------+----------------+------------------+\n",
      "|         1|     0.0|    500.0|   2000.0|   7000.0|9.99999999999E11| 5498912.158291399|\n",
      "|         3|     0.0|   1390.0|   4300.0|  13090.0|           1.3E8|17979.803811712485|\n",
      "|         2|     0.0|   1150.0|   6500.0|  23900.0| 8.9219940245E10|364486.29901816393|\n",
      "+----------+--------+---------+---------+---------+----------------+------------------+\n",
      "\n"
     ]
    }
   ],
   "source": [
    "import pyspark.sql.functions as F\n",
    "df_search_click_ad.groupby('ObjectType').agg(F.expr('percentile(Price, array(0))')[0].alias('%0 Price'),F.expr('percentile(Price, array(0.25))')[0].alias('%25 Price'),\n",
    "                             F.expr('percentile(Price, array(0.50))')[0].alias('%50 Price'),\n",
    "                             F.expr('percentile(Price, array(0.75))')[0].alias('%75 Price'),\n",
    "                            F.expr('percentile(Price, array(1))')[0].alias('%100 Price'),F.mean('Price')*).show()`"
   ]
  },
  {
   "cell_type": "code",
   "execution_count": 24,
   "id": "84132832-0825-4df3-95b9-7436701837e6",
   "metadata": {},
   "outputs": [
    {
     "name": "stdout",
     "output_type": "stream",
     "text": [
      "+-------+--------+---------+---------+---------+----------+------------------+\n",
      "|IsClick|%0 Price|%25 Price|%50 Price|%75 Price|%100 Price|        avg(Price)|\n",
      "+-------+--------+---------+---------+---------+----------+------------------+\n",
      "|      1|     0.0|   1360.0|   4550.0|  12600.0|     4.5E7|  20378.3174937608|\n",
      "|      0|     0.0|   1390.0|   4300.0|  13090.0|     1.3E8|17965.257092417432|\n",
      "+-------+--------+---------+---------+---------+----------+------------------+\n",
      "\n"
     ]
    }
   ],
   "source": [
    "#use table to show price distribution under different click status\n",
    "df_search_click_ad.where(df_search_click_ad.IsContext == 1).select('IsClick','Price').groupby('IsClick').agg(F.min('Price').alias('Min Price'),F.expr('percentile(Price, array(0.25))')[0].alias('%25 Price'),\n",
    "                             F.expr('percentile(Price, array(0.50))')[0].alias('%50 Price'),\n",
    "                             F.expr('percentile(Price, array(0.75))')[0].alias('%75 Price'),\n",
    "                            F.max('Price').alias('Max Price'),F.mean('Price').alias('Mean price')).show()"
   ]
  },
  {
   "cell_type": "markdown",
   "id": "84e34f2a-5a78-4721-be0d-40aa275b0555",
   "metadata": {},
   "source": [
    "## Search_click + search_info"
   ]
  },
  {
   "cell_type": "code",
   "execution_count": 6,
   "id": "51e76afb-82c0-4e2c-9729-a790566b4dd3",
   "metadata": {},
   "outputs": [],
   "source": [
    "#search_click join search_info to look at impact of search information to ads click status \n",
    "search_click_info =df_search_click_contextual.join(df_search_info, ['SearchID'],how='inner')"
   ]
  },
  {
   "cell_type": "code",
   "execution_count": 8,
   "id": "eeaad063-c659-462f-bd66-5f132e490c3d",
   "metadata": {},
   "outputs": [],
   "source": [
    "#drop unuseful columns\n",
    "search_click_info=search_click_info.drop('ObjectType', 'SearchParams', 'IPID')"
   ]
  },
  {
   "cell_type": "code",
   "execution_count": 8,
   "id": "cda63b71-691f-4157-adba-642734e88d9a",
   "metadata": {},
   "outputs": [
    {
     "name": "stdout",
     "output_type": "stream",
     "text": [
      "+----------+----------+------+---------+--------+--------+--------+-------+-------------------+--------------+----------------+-----------+-------------+------------+-----------------+-----+--------+------+-----+----------------+-------------+\n",
      "|CategoryID|LocationID|UserID| SearchID|    AdID|Position| HistCTR|IsClick|         SearchDate|IsUserLoggedOn|     SearchQuery|UserAgentID|UserAgentOSID|UserDeviceID|UserAgentFamilyID|Level|RegionID|CityID|Level|ParentCategoryID|SubcategoryID|\n",
      "+----------+----------+------+---------+--------+--------+--------+-------+-------------------+--------------+----------------+-----------+-------------+------------+-----------------+-----+--------+------+-----+----------------+-------------+\n",
      "|        41|      3960|   148| 13440136| 9783255|       1|0.007868|      0|2015-05-03 20:18:59|             0|            null|       2764|           20|        2014|               62|    2|      18|   623|    3|              12|           42|\n",
      "|        41|      3960|   148| 13440136|26087437|       7|0.004495|      0|2015-05-03 20:18:59|             0|            null|       2764|           20|        2014|               62|    2|      18|   623|    3|              12|           42|\n",
      "|        41|      3505|   148| 85225424|33586049|       7|  0.0058|      0|2015-05-12 08:38:03|             0|            null|       2764|           20|        2014|               62|    3|      37|  1698|    3|              12|           42|\n",
      "|        41|      3505|   148| 85225424|18122184|       1|0.016199|      0|2015-05-12 08:38:03|             0|            null|       2764|           20|        2014|               62|    3|      37|  1698|    3|              12|           42|\n",
      "|         0|      3960|   148| 53522613|  665438|       1|0.005731|      0|2015-05-02 15:35:58|             0|htc one dual sim|       2764|           20|        2014|               62|    2|      18|   623|    1|              10|           45|\n",
      "|        34|      3960|   471|110082491|28297976|       1|0.011905|      0|2015-05-14 12:39:23|             0|            null|      57749|           15|        2014|               43|    2|      18|   623|    3|               6|            7|\n",
      "|        34|      3960|   471|110082491|32222294|       7|0.006211|      0|2015-05-14 12:39:23|             0|            null|      57749|           15|        2014|               43|    2|      18|   623|    3|               6|            7|\n",
      "|        12|      3960|   471| 32122097|16167766|       7|0.004338|      0|2015-05-14 11:52:43|             0|            null|      57749|           15|        2014|               43|    2|      18|   623|    2|               6|           45|\n",
      "|        12|      3960|   471| 32122097|16523124|       1|0.034135|      0|2015-05-14 11:52:43|             0|            null|      57749|           15|        2014|               43|    2|      18|   623|    2|               6|           45|\n",
      "|        34|      3960|   471| 14716724|16167766|       7|0.004338|      0|2015-05-14 11:58:06|             0|            null|      57749|           15|        2014|               43|    2|      18|   623|    3|               6|            7|\n",
      "+----------+----------+------+---------+--------+--------+--------+-------+-------------------+--------------+----------------+-----------+-------------+------------+-----------------+-----+--------+------+-----+----------------+-------------+\n",
      "only showing top 10 rows\n",
      "\n"
     ]
    }
   ],
   "source": [
    "search_click_info.show(10)"
   ]
  },
  {
   "cell_type": "code",
   "execution_count": 11,
   "id": "2d64c0ce-67e5-4ffc-8669-50f5d8d197c6",
   "metadata": {},
   "outputs": [],
   "source": [
    "#transform values of searchquery to 0 and 1 where 1 represents there is a search query text, 0 represents there is no search query text\n",
    "search_click_info = search_click_info.withColumn(\"SearchQuery\", F.when(F.col('SearchQuery').isNull(),0).otherwise(F.lit(1)))"
   ]
  },
  {
   "cell_type": "code",
   "execution_count": 13,
   "id": "aa75bddd-9477-4bd3-8699-2b94540c1120",
   "metadata": {},
   "outputs": [],
   "source": [
    "# groupby number of different click status and searchquery status\n",
    "df=search_click_info.groupby('IsClick','SearchQuery').count()\n",
    "df=df.join(df.groupBy([\"SearchQuery\"]).sum('count'), 'SearchQuery')"
   ]
  },
  {
   "cell_type": "code",
   "execution_count": 14,
   "id": "3ccf2b6b-ea7e-4831-b81f-8e7a38a5c169",
   "metadata": {},
   "outputs": [
    {
     "name": "stderr",
     "output_type": "stream",
     "text": [
      "/home/hadoop/miniconda/lib/python3.7/site-packages/pyarrow/util.py:43: FutureWarning: pyarrow.open_stream is deprecated as of 0.17.0, please use pyarrow.ipc.open_stream instead.\n",
      "  warnings.warn(msg, FutureWarning)\n"
     ]
    }
   ],
   "source": [
    "#get proportions of click status among different position \n",
    "SearchQuery_IsClick=df.select('IsClick', 'SearchQuery', F.round(F.col('count')/F.col('sum(count)'), 2).alias('normalized')).toPandas()"
   ]
  },
  {
   "cell_type": "code",
   "execution_count": 16,
   "id": "2429d291-eace-4476-a264-d6965a951d83",
   "metadata": {},
   "outputs": [
    {
     "data": {
      "text/html": [
       "<div>\n",
       "<style scoped>\n",
       "    .dataframe tbody tr th:only-of-type {\n",
       "        vertical-align: middle;\n",
       "    }\n",
       "\n",
       "    .dataframe tbody tr th {\n",
       "        vertical-align: top;\n",
       "    }\n",
       "\n",
       "    .dataframe thead th {\n",
       "        text-align: right;\n",
       "    }\n",
       "</style>\n",
       "<table border=\"1\" class=\"dataframe\">\n",
       "  <thead>\n",
       "    <tr style=\"text-align: right;\">\n",
       "      <th>IsClick</th>\n",
       "      <th>0</th>\n",
       "      <th>1</th>\n",
       "    </tr>\n",
       "    <tr>\n",
       "      <th>SearchQuery</th>\n",
       "      <th></th>\n",
       "      <th></th>\n",
       "    </tr>\n",
       "  </thead>\n",
       "  <tbody>\n",
       "    <tr>\n",
       "      <th>0</th>\n",
       "      <td>0.99</td>\n",
       "      <td>0.01</td>\n",
       "    </tr>\n",
       "    <tr>\n",
       "      <th>1</th>\n",
       "      <td>0.99</td>\n",
       "      <td>0.01</td>\n",
       "    </tr>\n",
       "  </tbody>\n",
       "</table>\n",
       "</div>"
      ],
      "text/plain": [
       "IsClick         0     1\n",
       "SearchQuery            \n",
       "0            0.99  0.01\n",
       "1            0.99  0.01"
      ]
     },
     "execution_count": 16,
     "metadata": {},
     "output_type": "execute_result"
    }
   ],
   "source": [
    "#show pivot table for click status on different searchquery status(if there is raw text)\n",
    "SearchQuery_IsClick.pivot(\"SearchQuery\", \"IsClick\", \"normalized\")"
   ]
  },
  {
   "cell_type": "code",
   "execution_count": 17,
   "id": "89cdd2d3-7a93-44f5-8e6f-b75239367a46",
   "metadata": {},
   "outputs": [
    {
     "name": "stderr",
     "output_type": "stream",
     "text": [
      "/home/hadoop/miniconda/lib/python3.7/site-packages/pyarrow/util.py:43: FutureWarning: pyarrow.open_stream is deprecated as of 0.17.0, please use pyarrow.ipc.open_stream instead.\n",
      "  warnings.warn(msg, FutureWarning)\n"
     ]
    }
   ],
   "source": [
    "#get the same thing done as above to find relationship between IsUserLoggedon and IsClick\n",
    "click_isUserLoggedOn_count=search_click_info.groupby('IsClick','IsUserLoggedon').count()\n",
    "click_isUserLoggedOn_count=click_isUserLoggedOn_count.join(click_isUserLoggedOn_count.groupBy([\"IsUserLoggedon\"]).sum('count'), 'IsUserLoggedon')\n",
    "click_isUserLoggedOn_count_perc=click_isUserLoggedOn_count.select('IsClick', 'IsUserLoggedon', F.round(F.col('count')/F.col('sum(count)'), 2).alias('normalized')).toPandas()"
   ]
  },
  {
   "cell_type": "code",
   "execution_count": 104,
   "id": "9a0a86b7-ad13-4d7b-ab87-424431e2dd93",
   "metadata": {},
   "outputs": [
    {
     "data": {
      "text/html": [
       "<div>\n",
       "<style scoped>\n",
       "    .dataframe tbody tr th:only-of-type {\n",
       "        vertical-align: middle;\n",
       "    }\n",
       "\n",
       "    .dataframe tbody tr th {\n",
       "        vertical-align: top;\n",
       "    }\n",
       "\n",
       "    .dataframe thead th {\n",
       "        text-align: right;\n",
       "    }\n",
       "</style>\n",
       "<table border=\"1\" class=\"dataframe\">\n",
       "  <thead>\n",
       "    <tr style=\"text-align: right;\">\n",
       "      <th></th>\n",
       "      <th>IsClick</th>\n",
       "      <th>IsUserLoggedon</th>\n",
       "      <th>normalized</th>\n",
       "    </tr>\n",
       "  </thead>\n",
       "  <tbody>\n",
       "    <tr>\n",
       "      <th>0</th>\n",
       "      <td>1</td>\n",
       "      <td>0</td>\n",
       "      <td>0.72</td>\n",
       "    </tr>\n",
       "    <tr>\n",
       "      <th>1</th>\n",
       "      <td>1</td>\n",
       "      <td>1</td>\n",
       "      <td>0.28</td>\n",
       "    </tr>\n",
       "    <tr>\n",
       "      <th>2</th>\n",
       "      <td>0</td>\n",
       "      <td>0</td>\n",
       "      <td>0.68</td>\n",
       "    </tr>\n",
       "    <tr>\n",
       "      <th>3</th>\n",
       "      <td>0</td>\n",
       "      <td>1</td>\n",
       "      <td>0.32</td>\n",
       "    </tr>\n",
       "  </tbody>\n",
       "</table>\n",
       "</div>"
      ],
      "text/plain": [
       "   IsClick  IsUserLoggedon  normalized\n",
       "0        1               0        0.72\n",
       "1        1               1        0.28\n",
       "2        0               0        0.68\n",
       "3        0               1        0.32"
      ]
     },
     "execution_count": 104,
     "metadata": {},
     "output_type": "execute_result"
    }
   ],
   "source": [
    "click_isUserLoggedOn_count_perc"
   ]
  },
  {
   "cell_type": "code",
   "execution_count": 18,
   "id": "b810b0a7-46b3-48c8-a8a1-7277aee7df9d",
   "metadata": {},
   "outputs": [
    {
     "data": {
      "text/html": [
       "<div>\n",
       "<style scoped>\n",
       "    .dataframe tbody tr th:only-of-type {\n",
       "        vertical-align: middle;\n",
       "    }\n",
       "\n",
       "    .dataframe tbody tr th {\n",
       "        vertical-align: top;\n",
       "    }\n",
       "\n",
       "    .dataframe thead th {\n",
       "        text-align: right;\n",
       "    }\n",
       "</style>\n",
       "<table border=\"1\" class=\"dataframe\">\n",
       "  <thead>\n",
       "    <tr style=\"text-align: right;\">\n",
       "      <th>IsClick</th>\n",
       "      <th>0</th>\n",
       "      <th>1</th>\n",
       "    </tr>\n",
       "    <tr>\n",
       "      <th>IsUserLoggedon</th>\n",
       "      <th></th>\n",
       "      <th></th>\n",
       "    </tr>\n",
       "  </thead>\n",
       "  <tbody>\n",
       "    <tr>\n",
       "      <th>0</th>\n",
       "      <td>0.99</td>\n",
       "      <td>0.01</td>\n",
       "    </tr>\n",
       "    <tr>\n",
       "      <th>1</th>\n",
       "      <td>0.99</td>\n",
       "      <td>0.01</td>\n",
       "    </tr>\n",
       "  </tbody>\n",
       "</table>\n",
       "</div>"
      ],
      "text/plain": [
       "IsClick            0     1\n",
       "IsUserLoggedon            \n",
       "0               0.99  0.01\n",
       "1               0.99  0.01"
      ]
     },
     "execution_count": 18,
     "metadata": {},
     "output_type": "execute_result"
    }
   ],
   "source": [
    "#create pivot table to figure out relationship between isuserloggedon and isclick\n",
    "click_isUserLoggedOn_count_perc.pivot(\"IsUserLoggedon\", \"IsClick\", \"normalized\")"
   ]
  },
  {
   "cell_type": "code",
   "execution_count": 7,
   "id": "9ee1e8db-f198-4760-a61f-ff906b19392a",
   "metadata": {},
   "outputs": [],
   "source": [
    "from pyspark.sql.functions import *"
   ]
  },
  {
   "cell_type": "code",
   "execution_count": 16,
   "id": "ca34135e-3c05-4ac4-83d5-4cb73ccfa8e7",
   "metadata": {},
   "outputs": [
    {
     "name": "stderr",
     "output_type": "stream",
     "text": [
      "/usr/lib/spark/python/pyspark/sql/dataframe.py:2103: UserWarning: toPandas attempted Arrow optimization because 'spark.sql.execution.arrow.enabled' is set to true; however, failed by the reason below:\n",
      "  PyArrow >= 0.8.0 must be installed; however, it was not found.\n",
      "Attempting non-optimization as 'spark.sql.execution.arrow.fallback.enabled' is set to true.\n",
      "  warnings.warn(msg)\n"
     ]
    },
    {
     "data": {
      "text/html": [
       "<div>\n",
       "<style scoped>\n",
       "    .dataframe tbody tr th:only-of-type {\n",
       "        vertical-align: middle;\n",
       "    }\n",
       "\n",
       "    .dataframe tbody tr th {\n",
       "        vertical-align: top;\n",
       "    }\n",
       "\n",
       "    .dataframe thead th {\n",
       "        text-align: right;\n",
       "    }\n",
       "</style>\n",
       "<table border=\"1\" class=\"dataframe\">\n",
       "  <thead>\n",
       "    <tr style=\"text-align: right;\">\n",
       "      <th>IsClick</th>\n",
       "      <th>0</th>\n",
       "      <th>1</th>\n",
       "    </tr>\n",
       "    <tr>\n",
       "      <th>weekday</th>\n",
       "      <th></th>\n",
       "      <th></th>\n",
       "    </tr>\n",
       "  </thead>\n",
       "  <tbody>\n",
       "    <tr>\n",
       "      <th>1</th>\n",
       "      <td>0.99</td>\n",
       "      <td>0.01</td>\n",
       "    </tr>\n",
       "    <tr>\n",
       "      <th>2</th>\n",
       "      <td>0.99</td>\n",
       "      <td>0.01</td>\n",
       "    </tr>\n",
       "    <tr>\n",
       "      <th>3</th>\n",
       "      <td>0.99</td>\n",
       "      <td>0.01</td>\n",
       "    </tr>\n",
       "    <tr>\n",
       "      <th>4</th>\n",
       "      <td>0.99</td>\n",
       "      <td>0.01</td>\n",
       "    </tr>\n",
       "    <tr>\n",
       "      <th>5</th>\n",
       "      <td>0.99</td>\n",
       "      <td>0.01</td>\n",
       "    </tr>\n",
       "    <tr>\n",
       "      <th>6</th>\n",
       "      <td>0.99</td>\n",
       "      <td>0.01</td>\n",
       "    </tr>\n",
       "    <tr>\n",
       "      <th>7</th>\n",
       "      <td>0.99</td>\n",
       "      <td>0.01</td>\n",
       "    </tr>\n",
       "  </tbody>\n",
       "</table>\n",
       "</div>"
      ],
      "text/plain": [
       "IsClick     0     1\n",
       "weekday            \n",
       "1        0.99  0.01\n",
       "2        0.99  0.01\n",
       "3        0.99  0.01\n",
       "4        0.99  0.01\n",
       "5        0.99  0.01\n",
       "6        0.99  0.01\n",
       "7        0.99  0.01"
      ]
     },
     "execution_count": 16,
     "metadata": {},
     "output_type": "execute_result"
    }
   ],
   "source": [
    "#extract days of week to find if there is relationship between days of week of search events and Isclick\n",
    "search_click_info_week=search_click_info.withColumn(\"weekday\", date_format(col(\"SearchDate\"), \"u\"))\n",
    "\n",
    "search_click_info_week=search_click_info_week.groupby('IsClick','weekday').count()\n",
    "df=search_click_info_week.join(search_click_info_week.groupBy([\"weekday\"]).sum('count'), \"weekday\")\n",
    "\n",
    "Week_IsClick=df.select('IsClick',\"weekday\", F.round(F.col('count')/F.col('sum(count)'), 2).alias('normalized')).toPandas()\n",
    "Week_IsClick.pivot(\"weekday\", \"IsClick\", \"normalized\")\n"
   ]
  },
  {
   "cell_type": "code",
   "execution_count": 8,
   "id": "a18db7d6-b88d-407f-8518-d376f1f7841a",
   "metadata": {},
   "outputs": [
    {
     "name": "stderr",
     "output_type": "stream",
     "text": [
      "/home/hadoop/miniconda/lib/python3.7/site-packages/pyarrow/util.py:43: FutureWarning: pyarrow.open_stream is deprecated as of 0.17.0, please use pyarrow.ipc.open_stream instead.\n",
      "  warnings.warn(msg, FutureWarning)\n"
     ]
    },
    {
     "data": {
      "text/html": [
       "<div>\n",
       "<style scoped>\n",
       "    .dataframe tbody tr th:only-of-type {\n",
       "        vertical-align: middle;\n",
       "    }\n",
       "\n",
       "    .dataframe tbody tr th {\n",
       "        vertical-align: top;\n",
       "    }\n",
       "\n",
       "    .dataframe thead th {\n",
       "        text-align: right;\n",
       "    }\n",
       "</style>\n",
       "<table border=\"1\" class=\"dataframe\">\n",
       "  <thead>\n",
       "    <tr style=\"text-align: right;\">\n",
       "      <th>IsClick</th>\n",
       "      <th>0</th>\n",
       "      <th>1</th>\n",
       "    </tr>\n",
       "    <tr>\n",
       "      <th>month</th>\n",
       "      <th></th>\n",
       "      <th></th>\n",
       "    </tr>\n",
       "  </thead>\n",
       "  <tbody>\n",
       "    <tr>\n",
       "      <th>4</th>\n",
       "      <td>0.99</td>\n",
       "      <td>0.01</td>\n",
       "    </tr>\n",
       "    <tr>\n",
       "      <th>5</th>\n",
       "      <td>0.99</td>\n",
       "      <td>0.01</td>\n",
       "    </tr>\n",
       "  </tbody>\n",
       "</table>\n",
       "</div>"
      ],
      "text/plain": [
       "IsClick     0     1\n",
       "month              \n",
       "4        0.99  0.01\n",
       "5        0.99  0.01"
      ]
     },
     "execution_count": 8,
     "metadata": {},
     "output_type": "execute_result"
    }
   ],
   "source": [
    "#extract days of week to find if there is relationship between month of search events and Isclick\n",
    "search_click_info_month=search_click_info.withColumn(\"month\", month(col(\"SearchDate\")))\n",
    "\n",
    "search_click_info_month=search_click_info_month.groupby('IsClick','month').count()\n",
    "df=search_click_info_month.join(search_click_info_month.groupBy([\"month\"]).sum('count'), \"month\")\n",
    "\n",
    "month_IsClick=df.select('IsClick',\"month\", F.round(F.col('count')/F.col('sum(count)'), 2).alias('normalized')).toPandas()\n",
    "month_IsClick.pivot(\"month\", \"IsClick\", \"normalized\")"
   ]
  },
  {
   "cell_type": "markdown",
   "id": "ca007b7c-5b18-46f2-8857-b3a42d3e94cd",
   "metadata": {},
   "source": [
    "## Search_click + search_info + user_info "
   ]
  },
  {
   "cell_type": "code",
   "execution_count": 106,
   "id": "d9bb68dc-39cf-4fd7-b3bd-c9d50feffed5",
   "metadata": {},
   "outputs": [
    {
     "name": "stdout",
     "output_type": "stream",
     "text": [
      "UserID  \t with distinct values: 4284823\n",
      "UserAgentID  \t with distinct values: 63628\n",
      "UserAgentOSID  \t with distinct values: 51\n",
      "UserDeviceID  \t with distinct values: 4200\n",
      "UserAgentFamilyID  \t with distinct values: 89\n"
     ]
    }
   ],
   "source": [
    "#count distinct variable for different columns in user_info table dataset\n",
    "for col in df_user_info.columns:\n",
    "    print(col,' \\t', 'with distinct values:' , df_user_info.select(col).distinct().count())"
   ]
  },
  {
   "cell_type": "code",
   "execution_count": 9,
   "id": "a44a0f51-d158-48e6-a5d3-5b9981c05a42",
   "metadata": {},
   "outputs": [
    {
     "name": "stdout",
     "output_type": "stream",
     "text": [
      "UserID  \t with null values: 0\n",
      "UserAgentID  \t with null values: 0\n",
      "UserAgentOSID  \t with null values: 0\n",
      "UserDeviceID  \t with null values: 0\n",
      "UserAgentFamilyID  \t with null values: 0\n"
     ]
    }
   ],
   "source": [
    "#count null value for different columns in user_info table dataset\n",
    "for col in df_user_info.columns:\n",
    "    print(col,' \\t', 'with null values:' , df_user_info.filter(df_user_info[col].isNull()).count())"
   ]
  },
  {
   "cell_type": "code",
   "execution_count": 10,
   "id": "a8a1001b-e27f-4a64-9b60-76b6bd44e44d",
   "metadata": {},
   "outputs": [],
   "source": [
    "#join user information to search click dataset with search information\n",
    "search_click_info_user=search_click_info.join(df_user_info, ['UserID'],how='inner')\n"
   ]
  },
  {
   "cell_type": "code",
   "execution_count": 60,
   "id": "17575cdc-4e99-40c7-91e4-178dfb1b8cd0",
   "metadata": {},
   "outputs": [
    {
     "name": "stderr",
     "output_type": "stream",
     "text": [
      "/home/hadoop/miniconda/lib/python3.7/site-packages/pyarrow/util.py:43: FutureWarning: pyarrow.open_stream is deprecated as of 0.17.0, please use pyarrow.ipc.open_stream instead.\n",
      "  warnings.warn(msg, FutureWarning)\n"
     ]
    },
    {
     "data": {
      "text/html": [
       "<div>\n",
       "<style scoped>\n",
       "    .dataframe tbody tr th:only-of-type {\n",
       "        vertical-align: middle;\n",
       "    }\n",
       "\n",
       "    .dataframe tbody tr th {\n",
       "        vertical-align: top;\n",
       "    }\n",
       "\n",
       "    .dataframe thead th {\n",
       "        text-align: right;\n",
       "    }\n",
       "</style>\n",
       "<table border=\"1\" class=\"dataframe\">\n",
       "  <thead>\n",
       "    <tr style=\"text-align: right;\">\n",
       "      <th>IsClick</th>\n",
       "      <th>0</th>\n",
       "      <th>1</th>\n",
       "    </tr>\n",
       "    <tr>\n",
       "      <th>UserAgentOSID</th>\n",
       "      <th></th>\n",
       "      <th></th>\n",
       "    </tr>\n",
       "  </thead>\n",
       "  <tbody>\n",
       "    <tr>\n",
       "      <th>1</th>\n",
       "      <td>0.99</td>\n",
       "      <td>0.01</td>\n",
       "    </tr>\n",
       "    <tr>\n",
       "      <th>2</th>\n",
       "      <td>0.99</td>\n",
       "      <td>0.01</td>\n",
       "    </tr>\n",
       "    <tr>\n",
       "      <th>3</th>\n",
       "      <td>1.00</td>\n",
       "      <td>0.00</td>\n",
       "    </tr>\n",
       "    <tr>\n",
       "      <th>4</th>\n",
       "      <td>1.00</td>\n",
       "      <td>0.00</td>\n",
       "    </tr>\n",
       "    <tr>\n",
       "      <th>5</th>\n",
       "      <td>0.99</td>\n",
       "      <td>0.01</td>\n",
       "    </tr>\n",
       "    <tr>\n",
       "      <th>6</th>\n",
       "      <td>0.99</td>\n",
       "      <td>0.01</td>\n",
       "    </tr>\n",
       "    <tr>\n",
       "      <th>7</th>\n",
       "      <td>0.99</td>\n",
       "      <td>0.01</td>\n",
       "    </tr>\n",
       "    <tr>\n",
       "      <th>8</th>\n",
       "      <td>0.99</td>\n",
       "      <td>0.01</td>\n",
       "    </tr>\n",
       "    <tr>\n",
       "      <th>9</th>\n",
       "      <td>0.99</td>\n",
       "      <td>0.01</td>\n",
       "    </tr>\n",
       "    <tr>\n",
       "      <th>10</th>\n",
       "      <td>1.00</td>\n",
       "      <td>NaN</td>\n",
       "    </tr>\n",
       "    <tr>\n",
       "      <th>11</th>\n",
       "      <td>1.00</td>\n",
       "      <td>NaN</td>\n",
       "    </tr>\n",
       "    <tr>\n",
       "      <th>12</th>\n",
       "      <td>1.00</td>\n",
       "      <td>NaN</td>\n",
       "    </tr>\n",
       "    <tr>\n",
       "      <th>13</th>\n",
       "      <td>1.00</td>\n",
       "      <td>NaN</td>\n",
       "    </tr>\n",
       "    <tr>\n",
       "      <th>14</th>\n",
       "      <td>0.99</td>\n",
       "      <td>0.01</td>\n",
       "    </tr>\n",
       "    <tr>\n",
       "      <th>15</th>\n",
       "      <td>0.99</td>\n",
       "      <td>0.01</td>\n",
       "    </tr>\n",
       "    <tr>\n",
       "      <th>17</th>\n",
       "      <td>1.00</td>\n",
       "      <td>NaN</td>\n",
       "    </tr>\n",
       "    <tr>\n",
       "      <th>18</th>\n",
       "      <td>0.99</td>\n",
       "      <td>0.01</td>\n",
       "    </tr>\n",
       "    <tr>\n",
       "      <th>19</th>\n",
       "      <td>0.99</td>\n",
       "      <td>0.01</td>\n",
       "    </tr>\n",
       "    <tr>\n",
       "      <th>20</th>\n",
       "      <td>0.99</td>\n",
       "      <td>0.01</td>\n",
       "    </tr>\n",
       "    <tr>\n",
       "      <th>21</th>\n",
       "      <td>1.00</td>\n",
       "      <td>NaN</td>\n",
       "    </tr>\n",
       "    <tr>\n",
       "      <th>22</th>\n",
       "      <td>1.00</td>\n",
       "      <td>NaN</td>\n",
       "    </tr>\n",
       "    <tr>\n",
       "      <th>23</th>\n",
       "      <td>1.00</td>\n",
       "      <td>NaN</td>\n",
       "    </tr>\n",
       "    <tr>\n",
       "      <th>24</th>\n",
       "      <td>1.00</td>\n",
       "      <td>NaN</td>\n",
       "    </tr>\n",
       "    <tr>\n",
       "      <th>25</th>\n",
       "      <td>0.99</td>\n",
       "      <td>0.01</td>\n",
       "    </tr>\n",
       "    <tr>\n",
       "      <th>26</th>\n",
       "      <td>1.00</td>\n",
       "      <td>NaN</td>\n",
       "    </tr>\n",
       "    <tr>\n",
       "      <th>27</th>\n",
       "      <td>1.00</td>\n",
       "      <td>0.00</td>\n",
       "    </tr>\n",
       "    <tr>\n",
       "      <th>28</th>\n",
       "      <td>0.99</td>\n",
       "      <td>0.01</td>\n",
       "    </tr>\n",
       "    <tr>\n",
       "      <th>29</th>\n",
       "      <td>1.00</td>\n",
       "      <td>0.00</td>\n",
       "    </tr>\n",
       "    <tr>\n",
       "      <th>30</th>\n",
       "      <td>0.99</td>\n",
       "      <td>0.01</td>\n",
       "    </tr>\n",
       "    <tr>\n",
       "      <th>31</th>\n",
       "      <td>0.99</td>\n",
       "      <td>0.01</td>\n",
       "    </tr>\n",
       "    <tr>\n",
       "      <th>32</th>\n",
       "      <td>0.99</td>\n",
       "      <td>0.01</td>\n",
       "    </tr>\n",
       "    <tr>\n",
       "      <th>33</th>\n",
       "      <td>1.00</td>\n",
       "      <td>NaN</td>\n",
       "    </tr>\n",
       "    <tr>\n",
       "      <th>34</th>\n",
       "      <td>1.00</td>\n",
       "      <td>NaN</td>\n",
       "    </tr>\n",
       "    <tr>\n",
       "      <th>35</th>\n",
       "      <td>1.00</td>\n",
       "      <td>0.00</td>\n",
       "    </tr>\n",
       "    <tr>\n",
       "      <th>36</th>\n",
       "      <td>1.00</td>\n",
       "      <td>NaN</td>\n",
       "    </tr>\n",
       "    <tr>\n",
       "      <th>37</th>\n",
       "      <td>0.99</td>\n",
       "      <td>0.01</td>\n",
       "    </tr>\n",
       "    <tr>\n",
       "      <th>38</th>\n",
       "      <td>1.00</td>\n",
       "      <td>0.00</td>\n",
       "    </tr>\n",
       "    <tr>\n",
       "      <th>39</th>\n",
       "      <td>1.00</td>\n",
       "      <td>0.00</td>\n",
       "    </tr>\n",
       "    <tr>\n",
       "      <th>40</th>\n",
       "      <td>0.99</td>\n",
       "      <td>0.01</td>\n",
       "    </tr>\n",
       "    <tr>\n",
       "      <th>41</th>\n",
       "      <td>0.99</td>\n",
       "      <td>0.01</td>\n",
       "    </tr>\n",
       "    <tr>\n",
       "      <th>42</th>\n",
       "      <td>1.00</td>\n",
       "      <td>0.00</td>\n",
       "    </tr>\n",
       "    <tr>\n",
       "      <th>43</th>\n",
       "      <td>0.99</td>\n",
       "      <td>0.01</td>\n",
       "    </tr>\n",
       "    <tr>\n",
       "      <th>44</th>\n",
       "      <td>1.00</td>\n",
       "      <td>0.00</td>\n",
       "    </tr>\n",
       "    <tr>\n",
       "      <th>45</th>\n",
       "      <td>1.00</td>\n",
       "      <td>NaN</td>\n",
       "    </tr>\n",
       "    <tr>\n",
       "      <th>46</th>\n",
       "      <td>0.99</td>\n",
       "      <td>0.01</td>\n",
       "    </tr>\n",
       "    <tr>\n",
       "      <th>47</th>\n",
       "      <td>1.00</td>\n",
       "      <td>0.00</td>\n",
       "    </tr>\n",
       "    <tr>\n",
       "      <th>48</th>\n",
       "      <td>1.00</td>\n",
       "      <td>NaN</td>\n",
       "    </tr>\n",
       "    <tr>\n",
       "      <th>49</th>\n",
       "      <td>1.00</td>\n",
       "      <td>NaN</td>\n",
       "    </tr>\n",
       "    <tr>\n",
       "      <th>50</th>\n",
       "      <td>0.99</td>\n",
       "      <td>0.01</td>\n",
       "    </tr>\n",
       "    <tr>\n",
       "      <th>51</th>\n",
       "      <td>0.99</td>\n",
       "      <td>0.01</td>\n",
       "    </tr>\n",
       "  </tbody>\n",
       "</table>\n",
       "</div>"
      ],
      "text/plain": [
       "IsClick           0     1\n",
       "UserAgentOSID            \n",
       "1              0.99  0.01\n",
       "2              0.99  0.01\n",
       "3              1.00  0.00\n",
       "4              1.00  0.00\n",
       "5              0.99  0.01\n",
       "6              0.99  0.01\n",
       "7              0.99  0.01\n",
       "8              0.99  0.01\n",
       "9              0.99  0.01\n",
       "10             1.00   NaN\n",
       "11             1.00   NaN\n",
       "12             1.00   NaN\n",
       "13             1.00   NaN\n",
       "14             0.99  0.01\n",
       "15             0.99  0.01\n",
       "17             1.00   NaN\n",
       "18             0.99  0.01\n",
       "19             0.99  0.01\n",
       "20             0.99  0.01\n",
       "21             1.00   NaN\n",
       "22             1.00   NaN\n",
       "23             1.00   NaN\n",
       "24             1.00   NaN\n",
       "25             0.99  0.01\n",
       "26             1.00   NaN\n",
       "27             1.00  0.00\n",
       "28             0.99  0.01\n",
       "29             1.00  0.00\n",
       "30             0.99  0.01\n",
       "31             0.99  0.01\n",
       "32             0.99  0.01\n",
       "33             1.00   NaN\n",
       "34             1.00   NaN\n",
       "35             1.00  0.00\n",
       "36             1.00   NaN\n",
       "37             0.99  0.01\n",
       "38             1.00  0.00\n",
       "39             1.00  0.00\n",
       "40             0.99  0.01\n",
       "41             0.99  0.01\n",
       "42             1.00  0.00\n",
       "43             0.99  0.01\n",
       "44             1.00  0.00\n",
       "45             1.00   NaN\n",
       "46             0.99  0.01\n",
       "47             1.00  0.00\n",
       "48             1.00   NaN\n",
       "49             1.00   NaN\n",
       "50             0.99  0.01\n",
       "51             0.99  0.01"
      ]
     },
     "execution_count": 60,
     "metadata": {},
     "output_type": "execute_result"
    }
   ],
   "source": [
    "#from the distinct counts of different columns, we can know that userAgentOS is a big category which contains reasonbale levels compared with other columns\n",
    "UserAgentID_click=search_click_info_user.groupby('UserAgentOSID','IsClick').count()\n",
    "UserAgentID_click=UserAgentID_click.join(UserAgentID_click.groupBy([\"UserAgentOSID\"]).sum('count'), 'UserAgentOSID')\n",
    "UserAgentID_click=UserAgentID_click.select('IsClick', 'UserAgentOSID', F.round(F.col('count')/F.col('sum(count)'), 2).alias('normalized')).toPandas()\n",
    "UserAgentID_click.pivot(\"UserAgentOSID\", \"IsClick\", \"normalized\")"
   ]
  },
  {
   "cell_type": "markdown",
   "id": "d51c70d9-c561-4309-a174-c3740c1ac96e",
   "metadata": {},
   "source": [
    "## Search_click + search_info + location "
   ]
  },
  {
   "cell_type": "code",
   "execution_count": 107,
   "id": "40959b48-ae91-4589-9787-dce03dca745a",
   "metadata": {},
   "outputs": [
    {
     "name": "stdout",
     "output_type": "stream",
     "text": [
      "LocationID  \t with distinct values: 4080\n",
      "Level  \t with distinct values: 3\n",
      "RegionID  \t with distinct values: 85\n",
      "CityID  \t with distinct values: 3724\n"
     ]
    }
   ],
   "source": [
    "#check distinct values for location table\n",
    "for col in df_location.columns:\n",
    "    print(col,' \\t', 'with distinct values:' , df_location.select(col).distinct().count())"
   ]
  },
  {
   "cell_type": "code",
   "execution_count": 112,
   "id": "0178fec2-4c8f-4349-98b3-90abe0c9feee",
   "metadata": {},
   "outputs": [
    {
     "data": {
      "text/html": [
       "<div>\n",
       "<style scoped>\n",
       "    .dataframe tbody tr th:only-of-type {\n",
       "        vertical-align: middle;\n",
       "    }\n",
       "\n",
       "    .dataframe tbody tr th {\n",
       "        vertical-align: top;\n",
       "    }\n",
       "\n",
       "    .dataframe thead th {\n",
       "        text-align: right;\n",
       "    }\n",
       "</style>\n",
       "<table border=\"1\" class=\"dataframe\">\n",
       "  <thead>\n",
       "    <tr style=\"text-align: right;\">\n",
       "      <th>IsClick</th>\n",
       "      <th>0</th>\n",
       "      <th>1</th>\n",
       "    </tr>\n",
       "    <tr>\n",
       "      <th>Level</th>\n",
       "      <th></th>\n",
       "      <th></th>\n",
       "    </tr>\n",
       "  </thead>\n",
       "  <tbody>\n",
       "    <tr>\n",
       "      <th>1</th>\n",
       "      <td>1.00</td>\n",
       "      <td>0.00</td>\n",
       "    </tr>\n",
       "    <tr>\n",
       "      <th>2</th>\n",
       "      <td>1.00</td>\n",
       "      <td>0.00</td>\n",
       "    </tr>\n",
       "    <tr>\n",
       "      <th>3</th>\n",
       "      <td>0.99</td>\n",
       "      <td>0.01</td>\n",
       "    </tr>\n",
       "  </tbody>\n",
       "</table>\n",
       "</div>"
      ],
      "text/plain": [
       "IsClick     0     1\n",
       "Level              \n",
       "1        1.00  0.00\n",
       "2        1.00  0.00\n",
       "3        0.99  0.01"
      ]
     },
     "execution_count": 112,
     "metadata": {},
     "output_type": "execute_result"
    }
   ],
   "source": [
    "#creat pivot table to examine if there is relationship between location level and Isclick\n",
    "search_click_info_location =search_click_info.join(df_location, ['LocationID'],how='inner')\n",
    "search_click_info_location=search_click_info_location.groupby('Level','IsClick').count()\n",
    "search_click_info_location_level=search_click_info_location.join(search_click_info_location.groupBy([\"Level\"]).sum('count'), 'Level')\n",
    "search_click_info_location_level=search_click_info_location_level.select('IsClick', 'Level', F.round(F.col('count')/F.col('sum(count)'), 2).alias('normalized')).toPandas()\n",
    "search_click_info_location_level.pivot(\"Level\", \"IsClick\", \"normalized\")"
   ]
  },
  {
   "cell_type": "markdown",
   "id": "09d3731b-4c2f-4d13-aa76-957c49fdbe67",
   "metadata": {},
   "source": [
    "## Search_click + search_info + category "
   ]
  },
  {
   "cell_type": "code",
   "execution_count": 108,
   "id": "2bc2f347-cfb3-4e97-94c9-69b28863de66",
   "metadata": {},
   "outputs": [
    {
     "name": "stdout",
     "output_type": "stream",
     "text": [
      "CategoryID  \t with distinct values: 68\n",
      "Level  \t with distinct values: 3\n",
      "ParentCategoryID  \t with distinct values: 12\n",
      "SubcategoryID  \t with distinct values: 57\n"
     ]
    }
   ],
   "source": [
    "#\n",
    "for col in df_category.columns:\n",
    "    print(col,' \\t', 'with distinct values:' , df_category.select(col).distinct().count())"
   ]
  },
  {
   "cell_type": "code",
   "execution_count": 37,
   "id": "8fdd1a33-76cc-40a9-a52a-35d688a1703e",
   "metadata": {},
   "outputs": [],
   "source": [
    "#\n",
    "search_click_info_category =search_click_info.join(df_category,search_click_info['CategoryID']==df_category['CategoryID'],how='inner')"
   ]
  },
  {
   "cell_type": "code",
   "execution_count": 119,
   "id": "316e9979-3eb1-4f2b-9a21-819d5aff16d8",
   "metadata": {},
   "outputs": [
    {
     "name": "stderr",
     "output_type": "stream",
     "text": [
      "/home/hadoop/miniconda/lib/python3.7/site-packages/pyarrow/util.py:43: FutureWarning: pyarrow.open_stream is deprecated as of 0.17.0, please use pyarrow.ipc.open_stream instead.\n",
      "  warnings.warn(msg, FutureWarning)\n"
     ]
    },
    {
     "data": {
      "text/html": [
       "<div>\n",
       "<style scoped>\n",
       "    .dataframe tbody tr th:only-of-type {\n",
       "        vertical-align: middle;\n",
       "    }\n",
       "\n",
       "    .dataframe tbody tr th {\n",
       "        vertical-align: top;\n",
       "    }\n",
       "\n",
       "    .dataframe thead th {\n",
       "        text-align: right;\n",
       "    }\n",
       "</style>\n",
       "<table border=\"1\" class=\"dataframe\">\n",
       "  <thead>\n",
       "    <tr style=\"text-align: right;\">\n",
       "      <th>IsClick</th>\n",
       "      <th>0</th>\n",
       "      <th>1</th>\n",
       "    </tr>\n",
       "    <tr>\n",
       "      <th>Level</th>\n",
       "      <th></th>\n",
       "      <th></th>\n",
       "    </tr>\n",
       "  </thead>\n",
       "  <tbody>\n",
       "    <tr>\n",
       "      <th>1</th>\n",
       "      <td>0.99</td>\n",
       "      <td>0.01</td>\n",
       "    </tr>\n",
       "    <tr>\n",
       "      <th>2</th>\n",
       "      <td>1.00</td>\n",
       "      <td>0.00</td>\n",
       "    </tr>\n",
       "    <tr>\n",
       "      <th>3</th>\n",
       "      <td>0.99</td>\n",
       "      <td>0.01</td>\n",
       "    </tr>\n",
       "  </tbody>\n",
       "</table>\n",
       "</div>"
      ],
      "text/plain": [
       "IsClick     0     1\n",
       "Level              \n",
       "1        0.99  0.01\n",
       "2        1.00  0.00\n",
       "3        0.99  0.01"
      ]
     },
     "execution_count": 119,
     "metadata": {},
     "output_type": "execute_result"
    }
   ],
   "source": [
    "#\n",
    "search_click_info_category_level=search_click_info_category.groupby('Level','IsClick').count()\n",
    "search_click_info_category_level=search_click_info_category_level.join(search_click_info_category_level.groupBy([\"Level\"]).sum('count'), 'Level')\n",
    "search_click_info_category_level=search_click_info_category_level.select('IsClick', 'Level', F.round(F.col('count')/F.col('sum(count)'), 2).alias('normalized')).toPandas()\n",
    "search_click_info_category_level.pivot(\"Level\", \"IsClick\", \"normalized\")"
   ]
  },
  {
   "cell_type": "code",
   "execution_count": 39,
   "id": "3fedfac5-52e9-49d4-89ed-8133eaa6fc92",
   "metadata": {},
   "outputs": [
    {
     "name": "stderr",
     "output_type": "stream",
     "text": [
      "/home/hadoop/miniconda/lib/python3.7/site-packages/pyarrow/util.py:43: FutureWarning: pyarrow.open_stream is deprecated as of 0.17.0, please use pyarrow.ipc.open_stream instead.\n",
      "  warnings.warn(msg, FutureWarning)\n"
     ]
    },
    {
     "data": {
      "text/html": [
       "<div>\n",
       "<style scoped>\n",
       "    .dataframe tbody tr th:only-of-type {\n",
       "        vertical-align: middle;\n",
       "    }\n",
       "\n",
       "    .dataframe tbody tr th {\n",
       "        vertical-align: top;\n",
       "    }\n",
       "\n",
       "    .dataframe thead th {\n",
       "        text-align: right;\n",
       "    }\n",
       "</style>\n",
       "<table border=\"1\" class=\"dataframe\">\n",
       "  <thead>\n",
       "    <tr style=\"text-align: right;\">\n",
       "      <th>IsClick</th>\n",
       "      <th>0</th>\n",
       "      <th>1</th>\n",
       "    </tr>\n",
       "    <tr>\n",
       "      <th>ParentCategoryID</th>\n",
       "      <th></th>\n",
       "      <th></th>\n",
       "    </tr>\n",
       "  </thead>\n",
       "  <tbody>\n",
       "    <tr>\n",
       "      <th>2</th>\n",
       "      <td>0.99</td>\n",
       "      <td>0.01</td>\n",
       "    </tr>\n",
       "    <tr>\n",
       "      <th>3</th>\n",
       "      <td>1.00</td>\n",
       "      <td>0.00</td>\n",
       "    </tr>\n",
       "    <tr>\n",
       "      <th>5</th>\n",
       "      <td>0.99</td>\n",
       "      <td>0.01</td>\n",
       "    </tr>\n",
       "    <tr>\n",
       "      <th>6</th>\n",
       "      <td>1.00</td>\n",
       "      <td>0.00</td>\n",
       "    </tr>\n",
       "    <tr>\n",
       "      <th>8</th>\n",
       "      <td>0.99</td>\n",
       "      <td>0.01</td>\n",
       "    </tr>\n",
       "    <tr>\n",
       "      <th>9</th>\n",
       "      <td>0.99</td>\n",
       "      <td>0.01</td>\n",
       "    </tr>\n",
       "    <tr>\n",
       "      <th>10</th>\n",
       "      <td>0.99</td>\n",
       "      <td>0.01</td>\n",
       "    </tr>\n",
       "    <tr>\n",
       "      <th>12</th>\n",
       "      <td>0.99</td>\n",
       "      <td>0.01</td>\n",
       "    </tr>\n",
       "  </tbody>\n",
       "</table>\n",
       "</div>"
      ],
      "text/plain": [
       "IsClick              0     1\n",
       "ParentCategoryID            \n",
       "2                 0.99  0.01\n",
       "3                 1.00  0.00\n",
       "5                 0.99  0.01\n",
       "6                 1.00  0.00\n",
       "8                 0.99  0.01\n",
       "9                 0.99  0.01\n",
       "10                0.99  0.01\n",
       "12                0.99  0.01"
      ]
     },
     "execution_count": 39,
     "metadata": {},
     "output_type": "execute_result"
    }
   ],
   "source": [
    "#\n",
    "search_click_info_category_ParentCategoryID=search_click_info_category.groupby('ParentCategoryID','IsClick').count()\n",
    "search_click_info_category_ParentCategoryID=search_click_info_category_ParentCategoryID.join(search_click_info_category_ParentCategoryID.groupBy([\"ParentCategoryID\"]).sum('count'), 'ParentCategoryID')\n",
    "search_click_info_category_ParentCategoryID=search_click_info_category_ParentCategoryID.select('IsClick', 'ParentCategoryID', F.round(F.col('count')/F.col('sum(count)'), 2).alias('normalized')).toPandas()\n",
    "search_click_info_category_ParentCategoryID.pivot(\"ParentCategoryID\", \"IsClick\", \"normalized\")"
   ]
  },
  {
   "cell_type": "markdown",
   "id": "be6a62c8-7b29-493f-a201-97d19187865b",
   "metadata": {},
   "source": [
    "## Machine Learning model to predict IsClick"
   ]
  },
  {
   "cell_type": "code",
   "execution_count": 12,
   "id": "ada44869-2c9d-4002-a5a0-3940d368d7f2",
   "metadata": {},
   "outputs": [],
   "source": [
    "#import required modules and functions\n",
    "from pyspark.ml.feature import OneHotEncoderEstimator, StringIndexer, IndexToString, VectorAssembler,Normalizer,Binarizer\n",
    "from pyspark.ml.classification import LogisticRegression\n",
    "from pyspark.ml import Pipeline, Model\n",
    "from pyspark.ml.evaluation import BinaryClassificationEvaluator"
   ]
  },
  {
   "cell_type": "code",
   "execution_count": 89,
   "id": "0275994b-f5e6-415c-a1d3-ab63ac9ee567",
   "metadata": {},
   "outputs": [],
   "source": [
    "#combined search_click, saerch_info, user_info, category, location tables to prepare for models\n",
    "search_click_info=df_search_click_contextual.join(df_search_info, ['SearchID'],how='inner')\n",
    "search_click_info_user=search_click_info.join(df_user_info, ['UserID'],how='inner')\n",
    "search_click_info_location =search_click_info_user.join(df_location, ['LocationID'],how='inner')\n",
    "search_click_info_location=search_click_info_location.withColumnRenamed(\"Level\",\"LocationLevel\")\n",
    "search_click_info_user_location_category =search_click_info_location.join(df_category,['CategoryID'],how='inner')\n",
    "search_click_info_user_location_category=search_click_info_user_location_category.withColumnRenamed(\"Level\",\"CategoryLevel\")"
   ]
  },
  {
   "cell_type": "code",
   "execution_count": 90,
   "id": "1b35f024-f1f9-4c65-b842-48b573469c1a",
   "metadata": {},
   "outputs": [
    {
     "data": {
      "text/plain": [
       "['CategoryID',\n",
       " 'LocationID',\n",
       " 'UserID',\n",
       " 'SearchID',\n",
       " 'AdID',\n",
       " 'Position',\n",
       " 'ObjectType',\n",
       " 'HistCTR',\n",
       " 'IsClick',\n",
       " 'SearchDate',\n",
       " 'IPID',\n",
       " 'IsUserLoggedOn',\n",
       " 'SearchQuery',\n",
       " 'SearchParams',\n",
       " 'UserAgentID',\n",
       " 'UserAgentOSID',\n",
       " 'UserDeviceID',\n",
       " 'UserAgentFamilyID',\n",
       " 'LocationLevel',\n",
       " 'RegionID',\n",
       " 'CityID',\n",
       " 'CategoryLevel',\n",
       " 'ParentCategoryID',\n",
       " 'SubcategoryID']"
      ]
     },
     "execution_count": 90,
     "metadata": {},
     "output_type": "execute_result"
    }
   ],
   "source": [
    "#print column names\n",
    "search_click_info_user_location_category.columns"
   ]
  },
  {
   "cell_type": "code",
   "execution_count": 26,
   "id": "f6848630-23d9-44c6-ad21-68467ff64b4c",
   "metadata": {},
   "outputs": [
    {
     "name": "stdout",
     "output_type": "stream",
     "text": [
      "root\n",
      " |-- Position: integer (nullable = true)\n",
      " |-- HistCTR: double (nullable = true)\n",
      " |-- IsClick: integer (nullable = true)\n",
      " |-- UserAgentOSID: integer (nullable = true)\n",
      " |-- UserDeviceID: integer (nullable = true)\n",
      " |-- UserAgentFamilyID: integer (nullable = true)\n",
      " |-- LocationLevel: integer (nullable = true)\n",
      " |-- RegionID: integer (nullable = true)\n",
      " |-- CityID: integer (nullable = true)\n",
      " |-- CategoryLevel: integer (nullable = true)\n",
      " |-- ParentCategoryID: integer (nullable = true)\n",
      " |-- SubcategoryID: integer (nullable = true)\n",
      "\n"
     ]
    }
   ],
   "source": [
    "#print schema\n",
    "search_click_info_user_location_category.printSchema()"
   ]
  },
  {
   "cell_type": "code",
   "execution_count": 91,
   "id": "82bb0ad9-745c-4520-a7ec-7f58dc8d8984",
   "metadata": {},
   "outputs": [],
   "source": [
    "#change datatype of history click through rate to float\n",
    "from pyspark.sql.functions import col\n",
    "search_click_info_user_location_category=search_click_info_user_location_category.withColumn(\"HistCTR\", col('HistCTR').cast(\"FLOAT\"))"
   ]
  },
  {
   "cell_type": "code",
   "execution_count": 92,
   "id": "691c6146-0ef3-448a-a785-ea1229abd919",
   "metadata": {},
   "outputs": [],
   "source": [
    "#drop unnecessary columns\n",
    "search_click_info_user_location_category=search_click_info_user_location_category.drop(\"CategoryID\",\"LocationID\",\"UserID\",\"SearchID\",\"AdID\",\"ObjectType\",\"SearchDate\",\"IPID\",\"IsUserLoggedOn\",\"SearchQuery\",\"SearchParams\",\"UserAgentID\")"
   ]
  },
  {
   "cell_type": "code",
   "execution_count": 31,
   "id": "3777b49f-9694-437f-8e69-08694d5e92b7",
   "metadata": {},
   "outputs": [
    {
     "name": "stdout",
     "output_type": "stream",
     "text": [
      "Position  \t with null values: 0\n",
      "HistCTR  \t with null values: 0\n",
      "IsClick  \t with null values: 0\n",
      "UserAgentOSID  \t with null values: 0\n",
      "UserDeviceID  \t with null values: 0\n",
      "UserAgentFamilyID  \t with null values: 0\n",
      "LocationLevel  \t with null values: 0\n",
      "RegionID  \t with null values: 5279481\n",
      "CityID  \t with null values: 5279481\n",
      "CategoryLevel  \t with null values: 0\n",
      "ParentCategoryID  \t with null values: 0\n",
      "SubcategoryID  \t with null values: 0\n"
     ]
    }
   ],
   "source": [
    "#check null values for datasets\n",
    "for col in search_click_info_user_location_category.columns:\n",
    "    print(col,' \\t', 'with null values:' , search_click_info_user_location_category.filter(search_click_info_user_location_category[col].isNull()).count())"
   ]
  },
  {
   "cell_type": "code",
   "execution_count": 94,
   "id": "285784ad-d8d5-4fc4-97ce-ff98d916a8ee",
   "metadata": {},
   "outputs": [],
   "source": [
    "#drop RegionId, CityId columns\n",
    "search_click_info_user_location_category=search_click_info_user_location_category.drop('RegionID',\"CityID\")"
   ]
  },
  {
   "cell_type": "code",
   "execution_count": 95,
   "id": "d4b48420-874b-4d62-afb7-c9c041400848",
   "metadata": {},
   "outputs": [],
   "source": [
    "search_click_info_user_location_category=search_click_info_user_location_category.withColumnRenamed(\"IsClick\",\"label\")"
   ]
  },
  {
   "cell_type": "code",
   "execution_count": 96,
   "id": "049eb112-5e3c-4a2a-b699-039039c8caaa",
   "metadata": {},
   "outputs": [],
   "source": [
    "# create train and test dataset for model training and test \n",
    "train, test = (\n",
    "    search_click_info_user_location_category\n",
    "    .randomSplit([0.7, 0.3], seed=66)\n",
    ")"
   ]
  },
  {
   "cell_type": "code",
   "execution_count": 55,
   "id": "b9900059-8aa7-42eb-8b45-7504842d911c",
   "metadata": {},
   "outputs": [],
   "source": [
    "#import required modules and functions\n",
    "from pyspark.ml.feature import OneHotEncoderEstimator, StringIndexer, IndexToString, VectorAssembler,Normalizer,Binarizer\n",
    "from pyspark.ml.classification import RandomForestClassifier,LogisticRegression\n",
    "from pyspark.ml import Pipeline, Model\n",
    "from pyspark.ml.evaluation import BinaryClassificationEvaluator\n",
    "from pyspark.mllib.evaluation import BinaryClassificationMetrics\n"
   ]
  },
  {
   "cell_type": "code",
   "execution_count": 97,
   "id": "0188f45c-03a2-4b6d-8048-d7d28119dceb",
   "metadata": {},
   "outputs": [],
   "source": [
    "\n",
    "#filter to get categorical columns in the train dataset\n",
    "categoricalCols = [field for (field, dataType) in train.dtypes\n",
    " if ((dataType == \"int\")& (field != \"label\"))]\n",
    "\n",
    "oheOutputCols = [x + \"OHE\" for x in categoricalCols]\n",
    "\n",
    "\n",
    "#set one hot encoder function\n",
    "oheEncoder = OneHotEncoderEstimator(inputCols=categoricalCols,\n",
    " outputCols=oheOutputCols)\n",
    "\n",
    "#filter to get all numeric column names\n",
    "numericCols = [field for (field, dataType) in train.dtypes\n",
    " if ((dataType == \"float\") & (field != \"label\"))]\n",
    "\n",
    "#combine column names after finishing one-hot encoding and numeric columns\n",
    "assemblerInputs = oheOutputCols + numericCols\n",
    "\n",
    "#transform tip_amount to get new column \"label\" where 1 means there are tips and 0 means there is no tip\n",
    "vecAssembler = VectorAssembler(inputCols=assemblerInputs,\n",
    " outputCol=\"features\")\n",
    "\n",
    "#Random Forest model set\n",
    "rf = RandomForestClassifier(labelCol=\"label\", featuresCol=\"features\", numTrees=10)\n",
    "\n",
    "# set pipepline to combine all data preprocessing steps and random Forest model\n",
    "pipeline = Pipeline().setStages([oheEncoder,vecAssembler,rf])"
   ]
  },
  {
   "cell_type": "markdown",
   "id": "e4065f18-429c-475f-abb9-3b6b5b9b238d",
   "metadata": {},
   "source": [
    "### Random Forest Classifier"
   ]
  },
  {
   "cell_type": "code",
   "execution_count": 50,
   "id": "a6a6efbb-32fd-4bc2-a7e3-dc8279a9dea8",
   "metadata": {},
   "outputs": [],
   "source": [
    "\n",
    "#fit or train trainning datasets for all steps\n",
    "rf_Model = pipeline.fit(train)"
   ]
  },
  {
   "cell_type": "code",
   "execution_count": 67,
   "id": "1be49b18-2956-49ae-8b06-bf852185c67d",
   "metadata": {},
   "outputs": [],
   "source": [
    "# run data preprocesssing steps for test dataset and test model on test dataset\n",
    "rf_predDF=rf_Model.transform(test)"
   ]
  },
  {
   "cell_type": "code",
   "execution_count": 102,
   "id": "6e50658e-acd6-49fb-b227-2edab6835dd9",
   "metadata": {},
   "outputs": [],
   "source": [
    "# get nessesary data to calculate AUC\n",
    "rf_predictions=rf_predDF.select(\"label\",\"rawPrediction\")"
   ]
  },
  {
   "cell_type": "code",
   "execution_count": 59,
   "id": "6d28602d-b49e-4d0e-bc57-c7715689ea8d",
   "metadata": {},
   "outputs": [
    {
     "name": "stdout",
     "output_type": "stream",
     "text": [
      "Test Area Under ROC 0.5069034504546212\n"
     ]
    }
   ],
   "source": [
    "#calculate Area under the curve for the binary classifier\n",
    "evaluator = BinaryClassificationEvaluator()\n",
    "print(\"Test Area Under ROC\", evaluator.evaluate(predictions))"
   ]
  },
  {
   "cell_type": "code",
   "execution_count": 103,
   "id": "2ffa205e-6c2f-42df-abce-e9269366fa45",
   "metadata": {},
   "outputs": [
    {
     "name": "stdout",
     "output_type": "stream",
     "text": [
      "Area under PR = 0.011474907270869318\n"
     ]
    }
   ],
   "source": [
    "# Area under precision-recall curve\n",
    "print(\"Area under PR = %s\" % evaluator.evaluate(rf_predictions, {evaluator.metricName: \"areaUnderPR\"}))"
   ]
  },
  {
   "cell_type": "code",
   "execution_count": 58,
   "id": "8d318a79-b7e3-490c-857a-ffb071b3ecc5",
   "metadata": {},
   "outputs": [],
   "source": [
    "rf_Model.save(\"s3://jqlproject/model_location/\")"
   ]
  },
  {
   "cell_type": "markdown",
   "id": "55ea44b0-b1c0-4fcf-9ae9-2d0f931cef1a",
   "metadata": {},
   "source": [
    "### Logistic Regression"
   ]
  },
  {
   "cell_type": "code",
   "execution_count": 98,
   "id": "ec30d727-9dde-469b-bce4-da79cf603760",
   "metadata": {},
   "outputs": [],
   "source": [
    "\n",
    "#set logistic regression and use all categorical columns and numerical columns as predictors to classify if there are tips\n",
    "lr= LogisticRegression(labelCol='label'\n",
    "    , featuresCol=\"features\", maxIter=10, regParam=0.3, elasticNetParam =0.8)\n",
    "\n",
    "# set pipepline to combine all data preprocessing steps and Logistic regression model\n",
    "lr_pipeline = Pipeline().setStages([oheEncoder,vecAssembler,lr])\n",
    "\n",
    "#fit or train trainning datasets for all steps\n",
    "lr_Model = lr_pipeline.fit(train)"
   ]
  },
  {
   "cell_type": "code",
   "execution_count": 99,
   "id": "10631aa4-53d2-41d6-a293-dd12675c6113",
   "metadata": {},
   "outputs": [],
   "source": [
    "# run data preprocesssing steps for test dataset and test model on test dataset\n",
    "lr_predDF=lr_Model.transform(test)"
   ]
  },
  {
   "cell_type": "code",
   "execution_count": 86,
   "id": "56eac30c-cc00-41d9-8467-a1e7f12e9086",
   "metadata": {},
   "outputs": [],
   "source": [
    "\n",
    "# get nessesary data to calculate AUC\n",
    "lr_predictions=lr_predDF.select(\"label\",\"rawPrediction\")"
   ]
  },
  {
   "cell_type": "code",
   "execution_count": 83,
   "id": "6e9bb14d-6bd7-4a52-b353-6f3d679a550a",
   "metadata": {},
   "outputs": [
    {
     "name": "stdout",
     "output_type": "stream",
     "text": [
      "Test Area Under ROC 0.5\n"
     ]
    }
   ],
   "source": [
    "#calculate Area under the curve for the binary classifier\n",
    "evaluator = BinaryClassificationEvaluator()\n",
    "print(\"Test Area Under ROC\", evaluator.evaluate(lr_predictions))\n"
   ]
  },
  {
   "cell_type": "code",
   "execution_count": 105,
   "id": "3eeebe19-4443-40b9-890d-c3b75dd6f0d9",
   "metadata": {},
   "outputs": [
    {
     "name": "stdout",
     "output_type": "stream",
     "text": [
      "Test Area Under PR  = 0.006029355847164286\n"
     ]
    }
   ],
   "source": [
    "# Area under precision-recall curve\n",
    "print(\"Test Area Under PR  = %s\" % evaluator.evaluate(lr_predictions, {evaluator.metricName: \"areaUnderPR\"}))"
   ]
  },
  {
   "cell_type": "markdown",
   "id": "7bcb64e7-3763-469e-b333-c9dc37113a18",
   "metadata": {},
   "source": [
    "### GBTClassifier"
   ]
  },
  {
   "cell_type": "code",
   "execution_count": null,
   "id": "eeab7880-4469-4acd-b8a0-4e73f647c56a",
   "metadata": {},
   "outputs": [],
   "source": [
    "gbt = GBTClassifier(maxIter=50, maxDepth=20, labelCol='label'\n",
    "    , featuresCol=\"features\", seed=42)\n",
    "gbt_pipeline=Pipeline().setStages([oheEncoder,vecAssembler,gbt])\n",
    "gbt_Model=gbt_pipeline.fit(train)\n",
    "gbt_predDF=gbt_Model.transform(test)\n",
    "\n",
    "columns=gbt_predDF.columns\n",
    "predictResult=gbt_predDF.take(test.columns[0].count())\n",
    "predictResult=pd.DataFrame(predictResult,columns=columns)"
   ]
  },
  {
   "cell_type": "code",
   "execution_count": null,
   "id": "103a958a-adfb-4c11-be8e-3c1e0a0aa897",
   "metadata": {},
   "outputs": [],
   "source": [
    "y=list(predictResult['label'])\n",
    "y_pred=list(predictResult['prediction'])\n",
    "y_predprob=[x[1] for x in list(predictResult['probability'])]\n",
    "precision_score=metrics.precision_score(y, y_pred)\n",
    "recall_score=metrics.recall_score(y, y_pred)\n",
    "accuracy_score=metrics.accuracy_score(y, y_pred)\n",
    "f1_score=metrics.f1_score(y, y_pred)\n",
    "auc_score=metrics.roc_auc_score(y, y_predprob)"
   ]
  },
  {
   "cell_type": "code",
   "execution_count": null,
   "id": "a0ecf426-836b-426b-a99e-116613cf92b7",
   "metadata": {},
   "outputs": [],
   "source": [
    "lr_Model.save(\"s3://jqlassignment5/model_location/gbt_Model/\")"
   ]
  },
  {
   "cell_type": "code",
   "execution_count": null,
   "id": "cca42654-a361-44a9-89a2-161d918fa306",
   "metadata": {},
   "outputs": [],
   "source": [
    "spark.stop()"
   ]
  }
 ],
 "metadata": {
  "kernelspec": {
   "display_name": "Python 3 (ipykernel)",
   "language": "python",
   "name": "python3"
  },
  "language_info": {
   "codemirror_mode": {
    "name": "ipython",
    "version": 3
   },
   "file_extension": ".py",
   "mimetype": "text/x-python",
   "name": "python",
   "nbconvert_exporter": "python",
   "pygments_lexer": "ipython3",
   "version": "3.8.11"
  }
 },
 "nbformat": 4,
 "nbformat_minor": 5
}
